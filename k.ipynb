{
 "cells": [
  {
   "cell_type": "code",
   "execution_count": 47,
   "metadata": {},
   "outputs": [],
   "source": [
    "import os\n",
    "import cv2\n",
    "import numpy as np\n",
    "from sklearn.metrics import accuracy_score, precision_score, recall_score, f1_score\n",
    "from sklearn.model_selection import train_test_split"
   ]
  },
  {
   "cell_type": "code",
   "execution_count": 48,
   "metadata": {},
   "outputs": [
    {
     "ename": "error",
     "evalue": "OpenCV(4.8.1) D:\\a\\opencv-python\\opencv-python\\opencv\\modules\\imgproc\\src\\resize.cpp:4062: error: (-215:Assertion failed) !ssize.empty() in function 'cv::resize'\n",
     "output_type": "error",
     "traceback": [
      "\u001b[1;31m---------------------------------------------------------------------------\u001b[0m",
      "\u001b[1;31merror\u001b[0m                                     Traceback (most recent call last)",
      "Cell \u001b[1;32mIn[48], line 13\u001b[0m\n\u001b[0;32m     11\u001b[0m files \u001b[38;5;241m=\u001b[39m os\u001b[38;5;241m.\u001b[39mpath\u001b[38;5;241m.\u001b[39mjoin(\u001b[38;5;28mdir\u001b[39m, j)\n\u001b[0;32m     12\u001b[0m img \u001b[38;5;241m=\u001b[39m cv2\u001b[38;5;241m.\u001b[39mimread(files)\n\u001b[1;32m---> 13\u001b[0m img \u001b[38;5;241m=\u001b[39m \u001b[43mcv2\u001b[49m\u001b[38;5;241;43m.\u001b[39;49m\u001b[43mresize\u001b[49m\u001b[43m(\u001b[49m\u001b[43mimg\u001b[49m\u001b[43m,\u001b[49m\u001b[43m \u001b[49m\u001b[43m(\u001b[49m\u001b[38;5;241;43m64\u001b[39;49m\u001b[43m,\u001b[49m\u001b[38;5;241;43m64\u001b[39;49m\u001b[43m)\u001b[49m\u001b[43m)\u001b[49m\n\u001b[0;32m     14\u001b[0m img \u001b[38;5;241m=\u001b[39m np\u001b[38;5;241m.\u001b[39marray(img, dtype\u001b[38;5;241m=\u001b[39mnp\u001b[38;5;241m.\u001b[39mfloat32)\n\u001b[0;32m     15\u001b[0m img \u001b[38;5;241m=\u001b[39m img\u001b[38;5;241m/\u001b[39m\u001b[38;5;241m255\u001b[39m\n",
      "\u001b[1;31merror\u001b[0m: OpenCV(4.8.1) D:\\a\\opencv-python\\opencv-python\\opencv\\modules\\imgproc\\src\\resize.cpp:4062: error: (-215:Assertion failed) !ssize.empty() in function 'cv::resize'\n"
     ]
    }
   ],
   "source": [
    "images = []\n",
    "labels = []\n",
    "\n",
    "path = 'data/images'\n",
    "\n",
    "dir_list = os.listdir(path)\n",
    "for i in dir_list:\n",
    "  dir = os.path.join(path, i)\n",
    "  file_list = os.listdir(dir)\n",
    "  for j in file_list:\n",
    "    files = os.path.join(dir, j)\n",
    "    img = cv2.imread(files)\n",
    "    img = cv2.resize(img, (64,64))\n",
    "    img = np.array(img, dtype=np.float32)\n",
    "    img = img/255\n",
    "    images.append(img)\n",
    "    labels.append(i)"
   ]
  },
  {
   "cell_type": "code",
   "execution_count": 50,
   "metadata": {},
   "outputs": [
    {
     "data": {
      "image/png": "[encoded data removed]",
      "text/plain": [
       "<Figure size 640x480 with 1 Axes>"
      ]
     },
     "metadata": {},
     "output_type": "display_data"
    }
   ],
   "source": [
    "import matplotlib.pyplot as plt\n",
    "# Display the image\n",
    "plt.imshow(images[0])\n",
    "plt.title(f\"Label: {labels[0]}\")\n",
    "plt.show()"
   ]
  },
  {
   "cell_type": "code",
   "execution_count": 51,
   "metadata": {},
   "outputs": [
    {
     "data": {
      "text/plain": [
       "(11089, 64, 64, 3)"
      ]
     },
     "execution_count": 51,
     "metadata": {},
     "output_type": "execute_result"
    }
   ],
   "source": [
    "X = np.array(images)\n",
    "y = np.array(labels)\n",
    "X.shape"
   ]
  },
  {
   "cell_type": "code",
   "execution_count": 52,
   "metadata": {},
   "outputs": [],
   "source": [
    "from sklearn.preprocessing import LabelEncoder\n",
    "le = LabelEncoder()\n",
    "y = le.fit_transform(y)"
   ]
  },
  {
   "cell_type": "code",
   "execution_count": 53,
   "metadata": {},
   "outputs": [
    {
     "data": {
      "text/plain": [
       "33"
      ]
     },
     "execution_count": 53,
     "metadata": {},
     "output_type": "execute_result"
    }
   ],
   "source": [
    "len(set(y))"
   ]
  },
  {
   "cell_type": "code",
   "execution_count": 54,
   "metadata": {},
   "outputs": [],
   "source": [
    "from sklearn.utils import shuffle\n",
    "X_sh, y_sh = shuffle(X, y, random_state=42)"
   ]
  },
  {
   "cell_type": "code",
   "execution_count": 55,
   "metadata": {},
   "outputs": [],
   "source": [
    "from keras.models import Sequential\n",
    "from keras.layers import Conv2D, Flatten, MaxPooling2D, Dense"
   ]
  },
  {
   "cell_type": "code",
   "execution_count": 58,
   "metadata": {},
   "outputs": [
    {
     "ename": "ValueError",
     "evalue": "Input 0 of layer \"conv2d_45\" is incompatible with the layer: expected min_ndim=4, found ndim=2. Full shape received: (None, 36)",
     "output_type": "error",
     "traceback": [
      "\u001b[1;31m---------------------------------------------------------------------------\u001b[0m",
      "\u001b[1;31mValueError\u001b[0m                                Traceback (most recent call last)",
      "Cell \u001b[1;32mIn[58], line 13\u001b[0m\n\u001b[0;32m     11\u001b[0m model\u001b[38;5;241m.\u001b[39madd(Dense(units\u001b[38;5;241m=\u001b[39m\u001b[38;5;241m64\u001b[39m, activation\u001b[38;5;241m=\u001b[39m\u001b[38;5;124m'\u001b[39m\u001b[38;5;124mrelu\u001b[39m\u001b[38;5;124m'\u001b[39m))\n\u001b[0;32m     12\u001b[0m model\u001b[38;5;241m.\u001b[39madd(Dense(units\u001b[38;5;241m=\u001b[39m\u001b[38;5;241m36\u001b[39m, activation\u001b[38;5;241m=\u001b[39m\u001b[38;5;124m'\u001b[39m\u001b[38;5;124msoftmax\u001b[39m\u001b[38;5;124m'\u001b[39m))\n\u001b[1;32m---> 13\u001b[0m \u001b[43mmodel\u001b[49m\u001b[38;5;241;43m.\u001b[39;49m\u001b[43madd\u001b[49m\u001b[43m(\u001b[49m\u001b[43mConv2D\u001b[49m\u001b[43m(\u001b[49m\u001b[43mfilters\u001b[49m\u001b[38;5;241;43m=\u001b[39;49m\u001b[38;5;241;43m256\u001b[39;49m\u001b[43m,\u001b[49m\u001b[43m \u001b[49m\u001b[43mkernel_size\u001b[49m\u001b[38;5;241;43m=\u001b[39;49m\u001b[43m(\u001b[49m\u001b[38;5;241;43m3\u001b[39;49m\u001b[43m,\u001b[49m\u001b[38;5;241;43m3\u001b[39;49m\u001b[43m)\u001b[49m\u001b[43m,\u001b[49m\u001b[43m \u001b[49m\u001b[43mactivation\u001b[49m\u001b[38;5;241;43m=\u001b[39;49m\u001b[38;5;124;43m'\u001b[39;49m\u001b[38;5;124;43mrelu\u001b[39;49m\u001b[38;5;124;43m'\u001b[39;49m\u001b[43m)\u001b[49m\u001b[43m)\u001b[49m\n\u001b[0;32m     14\u001b[0m model\u001b[38;5;241m.\u001b[39madd(MaxPooling2D())\n",
      "File \u001b[1;32mc:\\Python311\\Lib\\site-packages\\tensorflow\\python\\trackable\\base.py:204\u001b[0m, in \u001b[0;36mno_automatic_dependency_tracking.<locals>._method_wrapper\u001b[1;34m(self, *args, **kwargs)\u001b[0m\n\u001b[0;32m    202\u001b[0m \u001b[38;5;28mself\u001b[39m\u001b[38;5;241m.\u001b[39m_self_setattr_tracking \u001b[38;5;241m=\u001b[39m \u001b[38;5;28;01mFalse\u001b[39;00m  \u001b[38;5;66;03m# pylint: disable=protected-access\u001b[39;00m\n\u001b[0;32m    203\u001b[0m \u001b[38;5;28;01mtry\u001b[39;00m:\n\u001b[1;32m--> 204\u001b[0m   result \u001b[38;5;241m=\u001b[39m \u001b[43mmethod\u001b[49m\u001b[43m(\u001b[49m\u001b[38;5;28;43mself\u001b[39;49m\u001b[43m,\u001b[49m\u001b[43m \u001b[49m\u001b[38;5;241;43m*\u001b[39;49m\u001b[43margs\u001b[49m\u001b[43m,\u001b[49m\u001b[43m \u001b[49m\u001b[38;5;241;43m*\u001b[39;49m\u001b[38;5;241;43m*\u001b[39;49m\u001b[43mkwargs\u001b[49m\u001b[43m)\u001b[49m\n\u001b[0;32m    205\u001b[0m \u001b[38;5;28;01mfinally\u001b[39;00m:\n\u001b[0;32m    206\u001b[0m   \u001b[38;5;28mself\u001b[39m\u001b[38;5;241m.\u001b[39m_self_setattr_tracking \u001b[38;5;241m=\u001b[39m previous_value  \u001b[38;5;66;03m# pylint: disable=protected-access\u001b[39;00m\n",
      "File \u001b[1;32mc:\\Python311\\Lib\\site-packages\\keras\\src\\utils\\traceback_utils.py:70\u001b[0m, in \u001b[0;36mfilter_traceback.<locals>.error_handler\u001b[1;34m(*args, **kwargs)\u001b[0m\n\u001b[0;32m     67\u001b[0m     filtered_tb \u001b[38;5;241m=\u001b[39m _process_traceback_frames(e\u001b[38;5;241m.\u001b[39m__traceback__)\n\u001b[0;32m     68\u001b[0m     \u001b[38;5;66;03m# To get the full stack trace, call:\u001b[39;00m\n\u001b[0;32m     69\u001b[0m     \u001b[38;5;66;03m# `tf.debugging.disable_traceback_filtering()`\u001b[39;00m\n\u001b[1;32m---> 70\u001b[0m     \u001b[38;5;28;01mraise\u001b[39;00m e\u001b[38;5;241m.\u001b[39mwith_traceback(filtered_tb) \u001b[38;5;28;01mfrom\u001b[39;00m \u001b[38;5;28;01mNone\u001b[39;00m\n\u001b[0;32m     71\u001b[0m \u001b[38;5;28;01mfinally\u001b[39;00m:\n\u001b[0;32m     72\u001b[0m     \u001b[38;5;28;01mdel\u001b[39;00m filtered_tb\n",
      "File \u001b[1;32mc:\\Python311\\Lib\\site-packages\\keras\\src\\engine\\input_spec.py:253\u001b[0m, in \u001b[0;36massert_input_compatibility\u001b[1;34m(input_spec, inputs, layer_name)\u001b[0m\n\u001b[0;32m    251\u001b[0m     ndim \u001b[38;5;241m=\u001b[39m x\u001b[38;5;241m.\u001b[39mshape\u001b[38;5;241m.\u001b[39mrank\n\u001b[0;32m    252\u001b[0m     \u001b[38;5;28;01mif\u001b[39;00m ndim \u001b[38;5;129;01mis\u001b[39;00m \u001b[38;5;129;01mnot\u001b[39;00m \u001b[38;5;28;01mNone\u001b[39;00m \u001b[38;5;129;01mand\u001b[39;00m ndim \u001b[38;5;241m<\u001b[39m spec\u001b[38;5;241m.\u001b[39mmin_ndim:\n\u001b[1;32m--> 253\u001b[0m         \u001b[38;5;28;01mraise\u001b[39;00m \u001b[38;5;167;01mValueError\u001b[39;00m(\n\u001b[0;32m    254\u001b[0m             \u001b[38;5;124mf\u001b[39m\u001b[38;5;124m'\u001b[39m\u001b[38;5;124mInput \u001b[39m\u001b[38;5;132;01m{\u001b[39;00minput_index\u001b[38;5;132;01m}\u001b[39;00m\u001b[38;5;124m of layer \u001b[39m\u001b[38;5;124m\"\u001b[39m\u001b[38;5;132;01m{\u001b[39;00mlayer_name\u001b[38;5;132;01m}\u001b[39;00m\u001b[38;5;124m\"\u001b[39m\u001b[38;5;124m \u001b[39m\u001b[38;5;124m'\u001b[39m\n\u001b[0;32m    255\u001b[0m             \u001b[38;5;124m\"\u001b[39m\u001b[38;5;124mis incompatible with the layer: \u001b[39m\u001b[38;5;124m\"\u001b[39m\n\u001b[0;32m    256\u001b[0m             \u001b[38;5;124mf\u001b[39m\u001b[38;5;124m\"\u001b[39m\u001b[38;5;124mexpected min_ndim=\u001b[39m\u001b[38;5;132;01m{\u001b[39;00mspec\u001b[38;5;241m.\u001b[39mmin_ndim\u001b[38;5;132;01m}\u001b[39;00m\u001b[38;5;124m, \u001b[39m\u001b[38;5;124m\"\u001b[39m\n\u001b[0;32m    257\u001b[0m             \u001b[38;5;124mf\u001b[39m\u001b[38;5;124m\"\u001b[39m\u001b[38;5;124mfound ndim=\u001b[39m\u001b[38;5;132;01m{\u001b[39;00mndim\u001b[38;5;132;01m}\u001b[39;00m\u001b[38;5;124m. \u001b[39m\u001b[38;5;124m\"\u001b[39m\n\u001b[0;32m    258\u001b[0m             \u001b[38;5;124mf\u001b[39m\u001b[38;5;124m\"\u001b[39m\u001b[38;5;124mFull shape received: \u001b[39m\u001b[38;5;132;01m{\u001b[39;00m\u001b[38;5;28mtuple\u001b[39m(shape)\u001b[38;5;132;01m}\u001b[39;00m\u001b[38;5;124m\"\u001b[39m\n\u001b[0;32m    259\u001b[0m         )\n\u001b[0;32m    260\u001b[0m \u001b[38;5;66;03m# Check dtype.\u001b[39;00m\n\u001b[0;32m    261\u001b[0m \u001b[38;5;28;01mif\u001b[39;00m spec\u001b[38;5;241m.\u001b[39mdtype \u001b[38;5;129;01mis\u001b[39;00m \u001b[38;5;129;01mnot\u001b[39;00m \u001b[38;5;28;01mNone\u001b[39;00m:\n",
      "\u001b[1;31mValueError\u001b[0m: Input 0 of layer \"conv2d_45\" is incompatible with the layer: expected min_ndim=4, found ndim=2. Full shape received: (None, 36)"
     ]
    }
   ],
   "source": [
    "model = Sequential()\n",
    "model.add(Conv2D(filters=16, kernel_size=(3,3), activation='relu', input_shape=(64,64,3)))\n",
    "model.add(MaxPooling2D())\n",
    "model.add(Conv2D(filters=32, kernel_size=(3,3),  activation='relu'))\n",
    "model.add(MaxPooling2D())\n",
    "model.add(Conv2D(filters=64, kernel_size=(3,3),  activation='relu'))\n",
    "model.add(MaxPooling2D())\n",
    "model.add(Conv2D(filters=128, kernel_size=(3,3), activation='relu'))\n",
    "model.add(Flatten())\n",
    "model.add(Dense(units=128, activation='relu'))\n",
    "model.add(Dense(units=64, activation='relu'))\n",
    "model.add(Dense(units=36, activation='softmax'))"
   ]
  },
  {
   "cell_type": "code",
   "execution_count": 15,
   "metadata": {},
   "outputs": [],
   "source": [
    "model.compile(optimizer='adam', loss='sparse_categorical_crossentropy', metrics = ['accuracy'])"
   ]
  },
  {
   "cell_type": "code",
   "execution_count": 29,
   "metadata": {},
   "outputs": [
    {
     "name": "stdout",
     "output_type": "stream",
     "text": [
      "Epoch 1/50\n",
      "555/555 [==============================] - 5s 10ms/step - loss: 0.0215 - accuracy: 0.9944 - val_loss: 0.0549 - val_accuracy: 0.9847\n",
      "Epoch 2/50\n",
      "555/555 [==============================] - 5s 9ms/step - loss: 0.0043 - accuracy: 0.9991 - val_loss: 5.6537e-05 - val_accuracy: 1.0000\n",
      "Epoch 3/50\n",
      "555/555 [==============================] - 5s 9ms/step - loss: 3.2805e-05 - accuracy: 1.0000 - val_loss: 2.5453e-05 - val_accuracy: 1.0000\n",
      "Epoch 4/50\n",
      "555/555 [==============================] - 5s 9ms/step - loss: 1.7682e-05 - accuracy: 1.0000 - val_loss: 1.4741e-05 - val_accuracy: 1.0000\n",
      "Epoch 5/50\n",
      "555/555 [==============================] - 5s 9ms/step - loss: 1.0734e-05 - accuracy: 1.0000 - val_loss: 1.0160e-05 - val_accuracy: 1.0000\n",
      "Epoch 6/50\n",
      "555/555 [==============================] - 5s 9ms/step - loss: 7.4190e-06 - accuracy: 1.0000 - val_loss: 6.5575e-06 - val_accuracy: 1.0000\n",
      "Epoch 7/50\n",
      "555/555 [==============================] - 5s 9ms/step - loss: 4.9236e-06 - accuracy: 1.0000 - val_loss: 4.2016e-06 - val_accuracy: 1.0000\n",
      "Epoch 8/50\n",
      "555/555 [==============================] - 5s 9ms/step - loss: 3.0101e-06 - accuracy: 1.0000 - val_loss: 2.7128e-06 - val_accuracy: 1.0000\n",
      "Epoch 9/50\n",
      "555/555 [==============================] - 5s 9ms/step - loss: 1.8586e-06 - accuracy: 1.0000 - val_loss: 1.4989e-06 - val_accuracy: 1.0000\n",
      "Epoch 10/50\n",
      "555/555 [==============================] - 5s 10ms/step - loss: 1.0929e-06 - accuracy: 1.0000 - val_loss: 1.0281e-06 - val_accuracy: 1.0000\n",
      "Epoch 11/50\n",
      "555/555 [==============================] - 5s 10ms/step - loss: 7.1933e-07 - accuracy: 1.0000 - val_loss: 5.9420e-07 - val_accuracy: 1.0000\n",
      "Epoch 12/50\n",
      "555/555 [==============================] - 5s 10ms/step - loss: 4.1054e-07 - accuracy: 1.0000 - val_loss: 3.6810e-07 - val_accuracy: 1.0000\n",
      "Epoch 13/50\n",
      "555/555 [==============================] - 5s 10ms/step - loss: 2.5695e-07 - accuracy: 1.0000 - val_loss: 2.4814e-07 - val_accuracy: 1.0000\n",
      "Epoch 14/50\n",
      "555/555 [==============================] - 5s 10ms/step - loss: 1.7948e-07 - accuracy: 1.0000 - val_loss: 1.9080e-07 - val_accuracy: 1.0000\n",
      "Epoch 15/50\n",
      "555/555 [==============================] - 5s 10ms/step - loss: 1.2469e-07 - accuracy: 1.0000 - val_loss: 1.2163e-07 - val_accuracy: 1.0000\n",
      "Epoch 16/50\n",
      "555/555 [==============================] - 5s 10ms/step - loss: 9.4348e-08 - accuracy: 1.0000 - val_loss: 9.3357e-08 - val_accuracy: 1.0000\n",
      "Epoch 17/50\n",
      "555/555 [==============================] - 5s 9ms/step - loss: 6.8050e-08 - accuracy: 1.0000 - val_loss: 6.8688e-08 - val_accuracy: 1.0000\n",
      "Epoch 18/50\n",
      "555/555 [==============================] - 5s 9ms/step - loss: 5.4437e-08 - accuracy: 1.0000 - val_loss: 5.2510e-08 - val_accuracy: 1.0000\n",
      "Epoch 19/50\n",
      "555/555 [==============================] - 5s 10ms/step - loss: 3.6619e-08 - accuracy: 1.0000 - val_loss: 4.0901e-08 - val_accuracy: 1.0000\n",
      "Epoch 20/50\n",
      "555/555 [==============================] - 5s 10ms/step - loss: 2.7024e-08 - accuracy: 1.0000 - val_loss: 3.2301e-08 - val_accuracy: 1.0000\n",
      "Epoch 21/50\n",
      "555/555 [==============================] - 5s 9ms/step - loss: 2.2885e-08 - accuracy: 1.0000 - val_loss: 2.5744e-08 - val_accuracy: 1.0000\n",
      "Epoch 22/50\n",
      "555/555 [==============================] - 5s 10ms/step - loss: 1.7026e-08 - accuracy: 1.0000 - val_loss: 2.0907e-08 - val_accuracy: 1.0000\n",
      "Epoch 23/50\n",
      "555/555 [==============================] - 5s 10ms/step - loss: 1.3505e-08 - accuracy: 1.0000 - val_loss: 1.7306e-08 - val_accuracy: 1.0000\n",
      "Epoch 24/50\n",
      "555/555 [==============================] - 5s 9ms/step - loss: 1.1086e-08 - accuracy: 1.0000 - val_loss: 1.2254e-08 - val_accuracy: 1.0000\n",
      "Epoch 25/50\n",
      "555/555 [==============================] - 5s 10ms/step - loss: 8.3316e-09 - accuracy: 1.0000 - val_loss: 1.0158e-08 - val_accuracy: 1.0000\n",
      "Epoch 26/50\n",
      "555/555 [==============================] - 5s 9ms/step - loss: 6.9206e-09 - accuracy: 1.0000 - val_loss: 8.1694e-09 - val_accuracy: 1.0000\n",
      "Epoch 27/50\n",
      "555/555 [==============================] - 5s 10ms/step - loss: 5.7784e-09 - accuracy: 1.0000 - val_loss: 6.1808e-09 - val_accuracy: 1.0000\n",
      "Epoch 28/50\n",
      "555/555 [==============================] - 5s 10ms/step - loss: 4.5958e-09 - accuracy: 1.0000 - val_loss: 5.1596e-09 - val_accuracy: 1.0000\n",
      "Epoch 29/50\n",
      "555/555 [==============================] - 5s 9ms/step - loss: 3.5208e-09 - accuracy: 1.0000 - val_loss: 4.7834e-09 - val_accuracy: 1.0000\n",
      "Epoch 30/50\n",
      "555/555 [==============================] - 5s 10ms/step - loss: 2.9698e-09 - accuracy: 1.0000 - val_loss: 3.7622e-09 - val_accuracy: 1.0000\n",
      "Epoch 31/50\n",
      "555/555 [==============================] - 5s 10ms/step - loss: 2.4054e-09 - accuracy: 1.0000 - val_loss: 3.3323e-09 - val_accuracy: 1.0000\n",
      "Epoch 32/50\n",
      "555/555 [==============================] - 5s 10ms/step - loss: 2.0829e-09 - accuracy: 1.0000 - val_loss: 2.7948e-09 - val_accuracy: 1.0000\n",
      "Epoch 33/50\n",
      "555/555 [==============================] - 5s 10ms/step - loss: 1.9485e-09 - accuracy: 1.0000 - val_loss: 2.7411e-09 - val_accuracy: 1.0000\n",
      "Epoch 34/50\n",
      "555/555 [==============================] - 5s 10ms/step - loss: 1.7738e-09 - accuracy: 1.0000 - val_loss: 3.1710e-09 - val_accuracy: 1.0000\n",
      "Epoch 35/50\n",
      "555/555 [==============================] - 5s 10ms/step - loss: 1.8141e-09 - accuracy: 1.0000 - val_loss: 2.3111e-09 - val_accuracy: 1.0000\n",
      "Epoch 36/50\n",
      "555/555 [==============================] - 5s 10ms/step - loss: 1.5857e-09 - accuracy: 1.0000 - val_loss: 1.9349e-09 - val_accuracy: 1.0000\n",
      "Epoch 37/50\n",
      "555/555 [==============================] - 5s 10ms/step - loss: 1.3169e-09 - accuracy: 1.0000 - val_loss: 1.3437e-09 - val_accuracy: 1.0000\n",
      "Epoch 38/50\n",
      "555/555 [==============================] - 5s 10ms/step - loss: 1.1557e-09 - accuracy: 1.0000 - val_loss: 9.6743e-10 - val_accuracy: 1.0000\n",
      "Epoch 39/50\n",
      "555/555 [==============================] - 5s 10ms/step - loss: 9.5410e-10 - accuracy: 1.0000 - val_loss: 1.2899e-09 - val_accuracy: 1.0000\n",
      "Epoch 40/50\n",
      "555/555 [==============================] - 5s 10ms/step - loss: 0.0973 - accuracy: 0.9777 - val_loss: 0.0199 - val_accuracy: 0.9955\n",
      "Epoch 41/50\n",
      "555/555 [==============================] - 5s 9ms/step - loss: 0.0118 - accuracy: 0.9966 - val_loss: 6.0017e-05 - val_accuracy: 1.0000\n",
      "Epoch 42/50\n",
      "555/555 [==============================] - 5s 9ms/step - loss: 1.9671e-05 - accuracy: 1.0000 - val_loss: 1.3654e-05 - val_accuracy: 1.0000\n",
      "Epoch 43/50\n",
      "555/555 [==============================] - 5s 9ms/step - loss: 7.3386e-06 - accuracy: 1.0000 - val_loss: 7.5105e-06 - val_accuracy: 1.0000\n",
      "Epoch 44/50\n",
      "555/555 [==============================] - 5s 9ms/step - loss: 4.3924e-06 - accuracy: 1.0000 - val_loss: 4.3616e-06 - val_accuracy: 1.0000\n",
      "Epoch 45/50\n",
      "555/555 [==============================] - 5s 10ms/step - loss: 2.4301e-06 - accuracy: 1.0000 - val_loss: 3.7777e-06 - val_accuracy: 1.0000\n",
      "Epoch 46/50\n",
      "555/555 [==============================] - 5s 10ms/step - loss: 1.6232e-06 - accuracy: 1.0000 - val_loss: 1.6892e-06 - val_accuracy: 1.0000\n",
      "Epoch 47/50\n",
      "555/555 [==============================] - 5s 10ms/step - loss: 1.0075e-06 - accuracy: 1.0000 - val_loss: 1.0673e-06 - val_accuracy: 1.0000\n",
      "Epoch 48/50\n",
      "555/555 [==============================] - 5s 9ms/step - loss: 6.1637e-07 - accuracy: 1.0000 - val_loss: 8.3151e-07 - val_accuracy: 1.0000\n",
      "Epoch 49/50\n",
      "555/555 [==============================] - 5s 10ms/step - loss: 4.6719e-07 - accuracy: 1.0000 - val_loss: 5.0666e-07 - val_accuracy: 1.0000\n",
      "Epoch 50/50\n",
      "555/555 [==============================] - 5s 10ms/step - loss: 0.0071 - accuracy: 0.9990 - val_loss: 0.1712 - val_accuracy: 0.9495\n"
     ]
    }
   ],
   "source": [
    "history = model.fit(X_sh, y_sh ,validation_split=0.2, batch_size=16, epochs=40)"
   ]
  },
  {
   "cell_type": "code",
   "execution_count": 31,
   "metadata": {},
   "outputs": [],
   "source": [
    "model.save('trained_model4.h5')"
   ]
  },
  {
   "cell_type": "code",
   "execution_count": 33,
   "metadata": {},
   "outputs": [
    {
     "data": {
      "text/plain": [
       "<matplotlib.legend.Legend at 0x1d698b49010>"
      ]
     },
     "execution_count": 33,
     "metadata": {},
     "output_type": "execute_result"
    },
    {
     "data": {
      "image/png": "[encoded data removed]",
      "text/plain": [
       "<Figure size 640x480 with 1 Axes>"
      ]
     },
     "metadata": {},
     "output_type": "display_data"
    }
   ],
   "source": [
    "plt.plot(history.history['loss'])\n",
    "plt.plot(history.history['val_loss'])\n",
    "plt.legend(['loss', 'val_loss'])"
   ]
  },
  {
   "cell_type": "code",
   "execution_count": 34,
   "metadata": {},
   "outputs": [],
   "source": [
    "test_images = []\n",
    "test_labels = []\n",
    "\n",
    "path = 'data/testing_data'\n",
    "\n",
    "dir_list = os.listdir(path)\n",
    "for i in dir_list:\n",
    "  dir = os.path.join(path, i)\n",
    "  file_list = os.listdir(dir)\n",
    "  for j in file_list:\n",
    "    files = os.path.join(dir, j)\n",
    "    img = cv2.imread(files)\n",
    "    img = cv2.resize(img, (64,64))\n",
    "    img = np.array(img, dtype=np.float32)\n",
    "    img = img/255\n",
    "    test_images.append(img)\n",
    "    test_labels.append(i)"
   ]
  },
  {
   "cell_type": "code",
   "execution_count": 35,
   "metadata": {},
   "outputs": [
    {
     "data": {
      "text/plain": [
       "(1008, 64, 64, 3)"
      ]
     },
     "execution_count": 35,
     "metadata": {},
     "output_type": "execute_result"
    }
   ],
   "source": [
    "X_test = np.array(test_images)\n",
    "y_test = np.array(test_labels)\n",
    "X_test.shape"
   ]
  },
  {
   "cell_type": "code",
   "execution_count": 36,
   "metadata": {},
   "outputs": [
    {
     "name": "stdout",
     "output_type": "stream",
     "text": [
      "32/32 [==============================] - 0s 6ms/step\n"
     ]
    },
    {
     "data": {
      "text/plain": [
       "(1008, 36)"
      ]
     },
     "execution_count": 36,
     "metadata": {},
     "output_type": "execute_result"
    }
   ],
   "source": [
    "preds = model.predict(X_test)\n",
    "preds.shape"
   ]
  },
  {
   "cell_type": "code",
   "execution_count": 37,
   "metadata": {},
   "outputs": [],
   "source": [
    "# Inverse transform the predicted probabilities to get the original class labels\n",
    "predicted_labels = le.inverse_transform(np.argmax(preds, axis=1))"
   ]
  },
  {
   "cell_type": "code",
   "execution_count": 38,
   "metadata": {},
   "outputs": [
    {
     "data": {
      "image/png": "[encoded data removed]",
      "text/plain": [
       "<Figure size 640x480 with 1 Axes>"
      ]
     },
     "metadata": {},
     "output_type": "display_data"
    }
   ],
   "source": [
    "plt.imshow(X_test[500])\n",
    "plt.title(f\"Label: {predicted_labels[500]}\")\n",
    "plt.show()"
   ]
  },
  {
   "cell_type": "code",
   "execution_count": 40,
   "metadata": {},
   "outputs": [
    {
     "name": "stdout",
     "output_type": "stream",
     "text": [
      "32/32 [==============================] - 0s 6ms/step - loss: 4.2056 - accuracy: 0.2034\n",
      "Test Accuracy: 0.2033730149269104\n"
     ]
    }
   ],
   "source": [
    "y_test = le.fit_transform(y_test)\n",
    "test_loss, test_accuracy = model.evaluate(X_test, y_test)\n",
    "print(f\"Test Accuracy: {test_accuracy}\")"
   ]
  },
  {
   "cell_type": "code",
   "execution_count": 42,
   "metadata": {},
   "outputs": [
    {
     "name": "stdout",
     "output_type": "stream",
     "text": [
      "32/32 [==============================] - 0s 5ms/step\n",
      "Test Accuracy: 0.20337301587301587\n",
      "Test Precision: 0.22024062099651506\n",
      "Test Recall: 0.20337301587301587\n",
      "Test F1 Score: 0.17349511824872665\n"
     ]
    },
    {
     "name": "stderr",
     "output_type": "stream",
     "text": [
      "c:\\Python311\\Lib\\site-packages\\sklearn\\metrics\\_classification.py:1471: UndefinedMetricWarning: Precision is ill-defined and being set to 0.0 in labels with no predicted samples. Use `zero_division` parameter to control this behavior.\n",
      "  _warn_prf(average, modifier, msg_start, len(result))\n"
     ]
    }
   ],
   "source": [
    "\n",
    "\n",
    "# Y_test'i LabelEncoder kullanarak dönüştürün (eğer daha önce dönüştürmediyseniz)\n",
    "le = LabelEncoder()\n",
    "y_test_encoded = le.fit_transform(y_test)\n",
    "\n",
    "# Modeli kullanarak tahmin yapın\n",
    "y_pred_prob = model.predict(X_test)\n",
    "y_pred = y_pred_prob.argmax(axis=1)\n",
    "\n",
    "# Test seti üzerinde değerlendirme metriklerini hesaplayın\n",
    "test_accuracy = accuracy_score(y_test_encoded, y_pred)\n",
    "test_precision = precision_score(y_test_encoded, y_pred, average='weighted')\n",
    "test_recall = recall_score(y_test_encoded, y_pred, average='weighted')\n",
    "test_f1 = f1_score(y_test_encoded, y_pred, average='weighted')\n",
    "\n",
    "# Sonuçları yazdırın\n",
    "print(f\"Test Accuracy: {test_accuracy}\")\n",
    "print(f\"Test Precision: {test_precision}\")\n",
    "print(f\"Test Recall: {test_recall}\")\n",
    "print(f\"Test F1 Score: {test_f1}\")"
   ]
  }
 ],
 "metadata": {
  "kernelspec": {
   "display_name": "Python 3",
   "language": "python",
   "name": "python3"
  },
  "language_info": {
   "codemirror_mode": {
    "name": "ipython",
    "version": 3
   },
   "file_extension": ".py",
   "mimetype": "text/x-python",
   "name": "python",
   "nbconvert_exporter": "python",
   "pygments_lexer": "ipython3",
   "version": "3.11.4"
  }
 },
 "nbformat": 4,
 "nbformat_minor": 2
}
